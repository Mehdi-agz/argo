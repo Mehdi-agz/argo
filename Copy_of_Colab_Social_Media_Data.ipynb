{
  "cells": [
    {
      "cell_type": "markdown",
      "metadata": {
        "id": "view-in-github",
        "colab_type": "text"
      },
      "source": [
        "<a href=\"https://colab.research.google.com/github/Mehdi-agz/argo/blob/main/Copy_of_Colab_Social_Media_Data.ipynb\" target=\"_parent\"><img src=\"https://colab.research.google.com/assets/colab-badge.svg\" alt=\"Open In Colab\"/></a>"
      ]
    },
    {
      "cell_type": "code",
      "execution_count": null,
      "metadata": {
        "colab": {
          "base_uri": "https://localhost:8080/"
        },
        "id": "LmxLySb20jtX",
        "outputId": "fe0303bd-0b39-4b93-acba-85155a36129d"
      },
      "outputs": [
        {
          "output_type": "stream",
          "name": "stdout",
          "text": [
            "\u001b[K     |████████████████████████████████| 204.2 MB 30 kB/s \n",
            "\u001b[K     |████████████████████████████████| 198 kB 51.1 MB/s \n",
            "\u001b[?25h  Building wheel for pyspark (setup.py) ... \u001b[?25l\u001b[?25hdone\n"
          ]
        }
      ],
      "source": [
        "\n",
        "!pip install --ignore-installed -q pyspark==3.0.1"
      ]
    },
    {
      "cell_type": "code",
      "execution_count": null,
      "metadata": {
        "id": "Nor9olN20p0M"
      },
      "outputs": [],
      "source": [
        "import os\n",
        "from pyspark.sql import SparkSession\n",
        "from pyspark import SparkContext\n",
        "\n",
        "\n",
        "import sys\n",
        "from operator import add\n",
        "\n",
        "from pyspark import SparkContext\n",
        "from pyspark import SparkConf,SparkContext\n",
        "from pyspark.streaming import StreamingContext\n",
        "import sys\n",
        "import requests\n",
        "from operator import add\n",
        "\n",
        "from pyspark.sql.types import *\n",
        "from pyspark.sql import functions as func\n",
        "\n",
        "from pyspark.sql.functions import lit\n",
        "from pyspark.sql.functions import udf\n",
        "from pyspark.sql.functions import *\n",
        "from pyspark.sql.functions import array\n",
        "\n",
        "from pyspark.sql import SQLContext\n",
        "\n",
        "spark = SparkSession.builder.master(\"local[*]\").getOrCreate()\n",
        "sc = SparkContext.getOrCreate()\n",
        "\n",
        "# conf = SparkConf(appName=\"TPCH-Example\")\n",
        "# create spark context with the above configuration\n",
        "# sc = SparkContext(conf=conf)\n",
        "\n",
        "sqlContext = SQLContext(sc)\n"
      ]
    },
    {
      "cell_type": "markdown",
      "metadata": {
        "id": "XL3CjM3406y4"
      },
      "source": []
    },
    {
      "cell_type": "code",
      "execution_count": null,
      "metadata": {
        "id": "2bNmkjaMYk7r"
      },
      "outputs": [],
      "source": [
        "!wget -q https://s3.amazonaws.com/utcs378/person_knows_person.csv.bz2   \n",
        "!wget -q https://s3.amazonaws.com/utcs378/person_likes_post.csv.bz2   \n",
        "!wget -q https://s3.amazonaws.com/utcs378/post_hasCreator_person.csv.bz2  \n",
        "!wget -q https://s3.amazonaws.com/utcs378/comment_hasCreator_person.csv.bz2  \n",
        "!wget -q https://s3.amazonaws.com/utcs378/comment_replyOf_post.csv.bz2"
      ]
    },
    {
      "cell_type": "code",
      "execution_count": null,
      "metadata": {
        "colab": {
          "base_uri": "https://localhost:8080/"
        },
        "id": "Q0qB4iql-uaK",
        "outputId": "4b3d7c81-a54e-4802-884d-f26fa4344c04"
      },
      "outputs": [
        {
          "output_type": "stream",
          "name": "stdout",
          "text": [
            "total 6900\n",
            "drwxr-xr-x 1 root root    4096 Oct 20 19:30 .\n",
            "drwxr-xr-x 1 root root    4096 Oct 20 19:28 ..\n",
            "-rw-r--r-- 1 root root 2004604 Feb 28  2022 comment_hasCreator_person.csv.bz2\n",
            "-rw-r--r-- 1 root root  912329 Feb 28  2022 comment_replyOf_post.csv.bz2\n",
            "drwxr-xr-x 4 root root    4096 Oct 19 18:26 .config\n",
            "-rw-r--r-- 1 root root   75841 Feb 28  2022 person_knows_person.csv.bz2\n",
            "-rw-r--r-- 1 root root 3727571 Feb 28  2022 person_likes_post.csv.bz2\n",
            "-rw-r--r-- 1 root root  318153 Feb 28  2022 post_hasCreator_person.csv.bz2\n",
            "drwxr-xr-x 1 root root    4096 Oct 19 18:27 sample_data\n"
          ]
        }
      ],
      "source": [
        "! ls -la "
      ]
    },
    {
      "cell_type": "code",
      "execution_count": null,
      "metadata": {
        "colab": {
          "base_uri": "https://localhost:8080/"
        },
        "id": "h5VEYx0pAgy8",
        "outputId": "9540cae9-4914-4cc5-ae50-5158d681e737"
      },
      "outputs": [
        {
          "output_type": "stream",
          "name": "stdout",
          "text": [
            "+--------------------+\n",
            "|Comment.id|Person.id|\n",
            "+--------------------+\n",
            "|               00|74|\n",
            "|              10|832|\n",
            "|              20|913|\n",
            "|              30|457|\n",
            "|              40|956|\n",
            "|               50|41|\n",
            "|              60|453|\n",
            "|              70|832|\n",
            "|                80|6|\n",
            "|                90|6|\n",
            "|             100|103|\n",
            "|             110|547|\n",
            "|             120|962|\n",
            "|              130|99|\n",
            "|             140|452|\n",
            "|              150|99|\n",
            "|               160|6|\n",
            "|              170|48|\n",
            "|             180|941|\n",
            "|              190|40|\n",
            "+--------------------+\n",
            "only showing top 20 rows\n",
            "\n",
            "+------------------+\n",
            "|Comment.id|Post.id|\n",
            "+------------------+\n",
            "|             00|00|\n",
            "|             10|00|\n",
            "|             30|00|\n",
            "|             70|00|\n",
            "|            100|10|\n",
            "|            110|10|\n",
            "|            140|10|\n",
            "|            150|10|\n",
            "|            180|10|\n",
            "|            240|20|\n",
            "|            250|20|\n",
            "|            330|20|\n",
            "|            340|30|\n",
            "|            350|30|\n",
            "|            420|30|\n",
            "|            470|40|\n",
            "|            480|40|\n",
            "|            510|40|\n",
            "|            560|40|\n",
            "|            660|50|\n",
            "+------------------+\n",
            "only showing top 20 rows\n",
            "\n",
            "+-------------------+\n",
            "|Person.id|Person.id|\n",
            "+-------------------+\n",
            "|             38|956|\n",
            "|             38|962|\n",
            "|             38|941|\n",
            "|              38|74|\n",
            "|              38|36|\n",
            "|              38|53|\n",
            "|              38|48|\n",
            "|              38|29|\n",
            "|              38|46|\n",
            "|              38|40|\n",
            "|              38|60|\n",
            "|              38|31|\n",
            "|              38|41|\n",
            "|               38|6|\n",
            "|               38|4|\n",
            "|             38|547|\n",
            "|             38|832|\n",
            "|             38|129|\n",
            "|             38|915|\n",
            "|             38|921|\n",
            "+-------------------+\n",
            "only showing top 20 rows\n",
            "\n",
            "+------------------------------+\n",
            "|Person.id|Post.id|creationDate|\n",
            "+------------------------------+\n",
            "|          74|00|2012-10-15T...|\n",
            "|          36|00|2012-10-18T...|\n",
            "|          417|10|2012-11-18...|\n",
            "|          415|10|2012-11-20...|\n",
            "|          109|10|2012-11-19...|\n",
            "|          119|10|2012-11-16...|\n",
            "|          70|10|2012-11-19T...|\n",
            "|          47|20|2012-10-23T...|\n",
            "|          378|20|2012-10-25...|\n",
            "|          643|20|2012-10-18...|\n",
            "|          592|20|2012-10-18...|\n",
            "|          576|20|2012-10-21...|\n",
            "|          606|20|2012-10-24...|\n",
            "|          724|20|2012-10-23...|\n",
            "|          672|20|2012-10-24...|\n",
            "|          711|20|2012-10-22...|\n",
            "|          915|30|2012-06-22...|\n",
            "|          921|30|2012-06-19...|\n",
            "|          507|30|2012-06-23...|\n",
            "|          501|30|2012-06-23...|\n",
            "+------------------------------+\n",
            "only showing top 20 rows\n",
            "\n",
            "+-----------------+\n",
            "|Post.id|Person.id|\n",
            "+-----------------+\n",
            "|            00|38|\n",
            "|            10|38|\n",
            "|            20|38|\n",
            "|            30|38|\n",
            "|            40|38|\n",
            "|            50|38|\n",
            "|            60|38|\n",
            "|            70|38|\n",
            "|            80|38|\n",
            "|            90|38|\n",
            "|           100|38|\n",
            "|           110|38|\n",
            "|           120|38|\n",
            "|           130|38|\n",
            "|           140|38|\n",
            "|           150|38|\n",
            "|           160|38|\n",
            "|           170|38|\n",
            "|           180|38|\n",
            "|           190|38|\n",
            "+-----------------+\n",
            "only showing top 20 rows\n",
            "\n"
          ]
        }
      ],
      "source": [
        "comment_hasCreator_person = sqlContext.read.format('csv').options(header='true', inferSchema='true',  sep =\",\").load(\"comment_hasCreator_person.csv.bz2\")\n",
        "comment_replyOf_post = sqlContext.read.format('csv').options(header='true', inferSchema='true',  sep =\",\").load(\"comment_replyOf_post.csv.bz2\")\n",
        "person_knows_person = sqlContext.read.format('csv').options(header='true', inferSchema='true',  sep =\",\").load(\"person_knows_person.csv.bz2\")\n",
        "person_likes_post = sqlContext.read.format('csv').options(header='true', inferSchema='true',  sep =\",\").load(\"person_likes_post.csv.bz2\")\n",
        "post_hasCreator_person = sqlContext.read.format('csv').options(header='true', inferSchema='true',  sep =\",\").load(\"post_hasCreator_person.csv.bz2\")\n",
        "\n",
        "\n",
        "comment_hasCreator_person.show()\n",
        "comment_replyOf_post.show()\n",
        "person_knows_person.show()\n",
        "person_likes_post.show()\n",
        "post_hasCreator_person.show()"
      ]
    },
    {
      "cell_type": "code",
      "source": [
        "# Q1: Which top-10 users have the highest activity counts?\n",
        "\n",
        "\n",
        "\n",
        "\n",
        "\n",
        "\n",
        "\n",
        "\n"
      ],
      "metadata": {
        "id": "QlmpDyPELV0z"
      },
      "execution_count": null,
      "outputs": []
    },
    {
      "cell_type": "code",
      "source": [],
      "metadata": {
        "id": "UNNCntP842lV"
      },
      "execution_count": null,
      "outputs": []
    }
  ],
  "metadata": {
    "colab": {
      "collapsed_sections": [],
      "provenance": [],
      "include_colab_link": true
    },
    "kernelspec": {
      "display_name": "Python 3",
      "language": "python",
      "name": "python3"
    },
    "language_info": {
      "codemirror_mode": {
        "name": "ipython",
        "version": 3
      },
      "file_extension": ".py",
      "mimetype": "text/x-python",
      "name": "python",
      "nbconvert_exporter": "python",
      "pygments_lexer": "ipython3",
      "version": "3.8.3"
    }
  },
  "nbformat": 4,
  "nbformat_minor": 0
}